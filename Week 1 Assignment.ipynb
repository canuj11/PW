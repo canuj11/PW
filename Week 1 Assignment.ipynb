{
 "cells": [
  {
   "cell_type": "code",
   "execution_count": 1,
   "id": "ea81a950-13fb-4500-b791-f988409940ee",
   "metadata": {},
   "outputs": [],
   "source": [
    "#Q.1 - (i)\n",
    "a = 'anuj'"
   ]
  },
  {
   "cell_type": "code",
   "execution_count": 20,
   "id": "7c28bfe7-bf24-4e1b-a186-56b8aa71719f",
   "metadata": {},
   "outputs": [
    {
     "data": {
      "text/plain": [
       "str"
      ]
     },
     "execution_count": 20,
     "metadata": {},
     "output_type": "execute_result"
    }
   ],
   "source": [
    "type(a)"
   ]
  },
  {
   "cell_type": "code",
   "execution_count": 25,
   "id": "2cc66854-ee9d-46f2-a596-46f231cbb239",
   "metadata": {},
   "outputs": [
    {
     "name": "stdout",
     "output_type": "stream",
     "text": [
      "<class 'list'>\n"
     ]
    }
   ],
   "source": [
    "#(ii)\n",
    "firstlist = [1,2,3, 34.56 , True ,\"me\"]\n",
    "print(type(firstlist))"
   ]
  },
  {
   "cell_type": "code",
   "execution_count": 24,
   "id": "d6f5a4bc-21f8-454b-b2d5-4505e56cbd11",
   "metadata": {},
   "outputs": [
    {
     "data": {
      "text/plain": [
       "float"
      ]
     },
     "execution_count": 24,
     "metadata": {},
     "output_type": "execute_result"
    }
   ],
   "source": [
    "#(iii)\n",
    "b = 56.56\n",
    "type(b)"
   ]
  },
  {
   "cell_type": "code",
   "execution_count": 28,
   "id": "57f88128-c869-4a3c-b312-4537ee711713",
   "metadata": {},
   "outputs": [
    {
     "name": "stdout",
     "output_type": "stream",
     "text": [
      "<class 'tuple'>\n"
     ]
    }
   ],
   "source": [
    "#(iv)\n",
    "firsttuple = (1,2,3, 34.56 , True ,\"me\")\n",
    "print(type(firsttuple))"
   ]
  },
  {
   "cell_type": "code",
   "execution_count": 17,
   "id": "8c098699-8499-4da0-94a9-28f455f511c9",
   "metadata": {},
   "outputs": [],
   "source": [
    "#Q.2\n",
    "var1 = ''\n",
    "#type - string\n",
    "var2 = '[DS,ML,Python]'\n",
    "#type - string\n",
    "var3 = ['DS','ML','Python']\n",
    "#type - list\n",
    "var4 = 1.\n",
    "#type - float"
   ]
  },
  {
   "cell_type": "code",
   "execution_count": 19,
   "id": "2e368d9c-e070-4951-857a-75d941f2a090",
   "metadata": {},
   "outputs": [
    {
     "name": "stdout",
     "output_type": "stream",
     "text": [
      "6.5 1 6 16\n"
     ]
    }
   ],
   "source": [
    "#Q.3\n",
    "a = 13\n",
    "b = 2\n",
    "#(i)\n",
    "c = a/b\n",
    "#used for division in floating point\n",
    "#(ii)\n",
    "d = a%b\n",
    "#used for remainder\n",
    "#(iii)\n",
    "e = a//b\n",
    "#used for devision in whole number\n",
    "#(iv)\n",
    "f = b**4\n",
    "#used for power of\n",
    "print(c,d,e,f)"
   ]
  },
  {
   "cell_type": "code",
   "execution_count": 32,
   "id": "62456d61-e6f9-4ee6-b6ce-47d781d6d24e",
   "metadata": {},
   "outputs": [
    {
     "name": "stdout",
     "output_type": "stream",
     "text": [
      "1\n",
      "<class 'int'>\n",
      "2\n",
      "<class 'int'>\n",
      "3\n",
      "<class 'int'>\n",
      "4\n",
      "<class 'int'>\n",
      "5\n",
      "<class 'int'>\n",
      "anuj\n",
      "<class 'str'>\n",
      "True\n",
      "<class 'bool'>\n",
      "65.69\n",
      "<class 'float'>\n",
      "5\n",
      "<class 'int'>\n",
      "6\n",
      "<class 'int'>\n"
     ]
    }
   ],
   "source": [
    "#Q.4\n",
    "list = [1,2,3,4,5,'anuj',True,65.69,5,6]\n",
    "for m in list:\n",
    "    print(m)\n",
    "    print(type(m))"
   ]
  },
  {
   "cell_type": "code",
   "execution_count": 14,
   "id": "8043aa63-fadb-49ee-bd07-3e67d5b6dd5a",
   "metadata": {},
   "outputs": [
    {
     "name": "stdout",
     "output_type": "stream",
     "text": [
      "To check number A is purely divisible by number B and if so then how many times it can be divisible\n"
     ]
    },
    {
     "name": "stdin",
     "output_type": "stream",
     "text": [
      "Enter the First Number: 256\n",
      "Enter the Second Number: 2\n"
     ]
    },
    {
     "name": "stdout",
     "output_type": "stream",
     "text": [
      "A is purely divisible by B.\n",
      "Number of times A can be divided by B: 8\n"
     ]
    }
   ],
   "source": [
    "#Q.5\n",
    "print(\"To check number A is purely divisible by number B and if so then how many times it can be divisible\")\n",
    "a = int (input(\"Enter the First Number:\"))\n",
    "b = int (input(\"Enter the Second Number:\"))\n",
    "c = 0\n",
    "d = a % b\n",
    "\n",
    "while a % b == 0:\n",
    "    a = a / b\n",
    "    c += 1\n",
    "\n",
    "if d == 0:\n",
    "    print(\"A is purely divisible by B.\")\n",
    "    print(\"Number of times A can be divided by B:\", c)\n",
    "else:\n",
    "    print(\"A is not purely divisible by B.\")"
   ]
  },
  {
   "cell_type": "code",
   "execution_count": 17,
   "id": "04ce27aa-35ec-4862-838f-cf3672dffae4",
   "metadata": {},
   "outputs": [
    {
     "name": "stdout",
     "output_type": "stream",
     "text": [
      "1 is not devisible by 3.\n",
      "2 is not devisible by 3.\n",
      "3 is divisioble by 3.\n",
      "4 is not devisible by 3.\n",
      "5 is not devisible by 3.\n",
      "6 is divisioble by 3.\n",
      "7 is not devisible by 3.\n",
      "8 is not devisible by 3.\n",
      "9 is divisioble by 3.\n",
      "10 is not devisible by 3.\n",
      "11 is not devisible by 3.\n",
      "12 is divisioble by 3.\n",
      "13 is not devisible by 3.\n",
      "14 is not devisible by 3.\n",
      "15 is divisioble by 3.\n",
      "16 is not devisible by 3.\n",
      "17 is not devisible by 3.\n",
      "18 is divisioble by 3.\n",
      "19 is not devisible by 3.\n",
      "20 is not devisible by 3.\n",
      "21 is divisioble by 3.\n",
      "22 is not devisible by 3.\n",
      "23 is not devisible by 3.\n",
      "24 is divisioble by 3.\n",
      "25 is not devisible by 3.\n"
     ]
    }
   ],
   "source": [
    "#Q6. Create a list containing 25 int type data. Using for loop and if-else condition \n",
    "#print if the element is divisible by 3 or not.\n",
    "list = [1,2,3,4,5,6,7,8,9,10,11,12,13,14,15,16,17,18,19,20,21,22,23,24,25]\n",
    "for x in list:\n",
    "    if x % 3 ==0:\n",
    "        print (x,\"is divisioble by 3.\")\n",
    "    else:\n",
    "        print (x,\"is not devisible by 3.\")"
   ]
  },
  {
   "cell_type": "code",
   "execution_count": null,
   "id": "91dc6911-f070-4f26-bec5-d927f54cf8bc",
   "metadata": {},
   "outputs": [],
   "source": [
    "#Q7. What do you understand about mutable and immutable data types? Give examples for both showing\n",
    "#this property.\n",
    "mutable data types can be modified and changeable.\n",
    "Ex - List, Dict\n",
    "\n",
    "Immutable data types can not be modified and changeable.\n",
    "Ex - Str, Tuple"
   ]
  }
 ],
 "metadata": {
  "kernelspec": {
   "display_name": "Python 3 (ipykernel)",
   "language": "python",
   "name": "python3"
  },
  "language_info": {
   "codemirror_mode": {
    "name": "ipython",
    "version": 3
   },
   "file_extension": ".py",
   "mimetype": "text/x-python",
   "name": "python",
   "nbconvert_exporter": "python",
   "pygments_lexer": "ipython3",
   "version": "3.10.8"
  }
 },
 "nbformat": 4,
 "nbformat_minor": 5
}
