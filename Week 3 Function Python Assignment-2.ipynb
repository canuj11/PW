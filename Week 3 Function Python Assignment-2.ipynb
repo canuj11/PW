{
 "cells": [
  {
   "cell_type": "markdown",
   "id": "a21870a3-c48a-483b-ba8d-9bf4af51a2c6",
   "metadata": {},
   "source": [
    "Q1. Create a python program to sort the given list of tuples based on integer value using a\n",
    "lambda function.\n",
    "[('Sachin Tendulkar', 34357), ('Ricky Ponting', 27483), ('Jack Kallis', 25534), ('Virat Kohli', 24936)]"
   ]
  },
  {
   "cell_type": "code",
   "execution_count": 3,
   "id": "3ce5aea8-52bd-4240-9891-2d2cfcda2218",
   "metadata": {},
   "outputs": [
    {
     "data": {
      "text/plain": [
       "[('Virat Kohli', 24936),\n",
       " ('Jack Kallis', 25534),\n",
       " ('Ricky Ponting', 27483),\n",
       " ('Sachin Tendulkar', 34357)]"
      ]
     },
     "execution_count": 3,
     "metadata": {},
     "output_type": "execute_result"
    }
   ],
   "source": [
    "Player = [('Sachin Tendulkar', 34357), ('Ricky Ponting', 27483), ('Jack Kallis', 25534), ('Virat Kohli', 24936)]\n",
    "sorted(Player,key = lambda x:x[1])"
   ]
  },
  {
   "cell_type": "markdown",
   "id": "d0ee1d2b-b210-4c3c-8eed-48cf3cf312ed",
   "metadata": {},
   "source": [
    "Q2. Write a Python Program to find the squares of all the numbers in the given list of integers using\n",
    "lambda and map functions.\n",
    "[1, 2, 3, 4, 5, 6, 7, 8, 9, 10]"
   ]
  },
  {
   "cell_type": "code",
   "execution_count": 5,
   "id": "7ece4cd0-4598-4028-901e-1885ed31cc65",
   "metadata": {},
   "outputs": [
    {
     "data": {
      "text/plain": [
       "[1, 4, 9, 16, 25, 36, 49, 64, 81, 100]"
      ]
     },
     "execution_count": 5,
     "metadata": {},
     "output_type": "execute_result"
    }
   ],
   "source": [
    "Num_list = [1, 2, 3, 4, 5, 6, 7, 8, 9, 10]\n",
    "list(map(lambda x:x**2,Num_list))"
   ]
  },
  {
   "cell_type": "markdown",
   "id": "48472ce9-9997-46ce-82f2-e45bd77a8037",
   "metadata": {},
   "source": [
    "Q3. Write a python program to convert the given list of integers into a tuple of strings. Use map and\n",
    "lambda functions\n",
    "Given String: [1, 2, 3, 4, 5, 6, 7, 8, 9, 10]\n",
    "Expected output: ('1', '2', '3', '4', '5', '6', '7', '8', '9', '10')"
   ]
  },
  {
   "cell_type": "code",
   "execution_count": 6,
   "id": "63ca8153-4f70-4cd6-b82c-62069d62ef10",
   "metadata": {},
   "outputs": [
    {
     "data": {
      "text/plain": [
       "('1', '2', '3', '4', '5', '6', '7', '8', '9', '10')"
      ]
     },
     "execution_count": 6,
     "metadata": {},
     "output_type": "execute_result"
    }
   ],
   "source": [
    "Giv_list = [1, 2, 3, 4, 5, 6, 7, 8, 9, 10]\n",
    "tuple(map(lambda x:str(x),Giv_list))"
   ]
  },
  {
   "cell_type": "markdown",
   "id": "b6d4da0f-8786-4367-a585-73ab8e1732e7",
   "metadata": {},
   "source": [
    "Q4. Write a python program using reduce function to compute the product of a list containing numbers\n",
    "from 1 to 25."
   ]
  },
  {
   "cell_type": "code",
   "execution_count": 9,
   "id": "765583ef-3f8e-4d40-b4ca-f41110c62ca8",
   "metadata": {},
   "outputs": [],
   "source": [
    "from functools import reduce"
   ]
  },
  {
   "cell_type": "code",
   "execution_count": 10,
   "id": "1290d439-045e-4e29-9a2a-1ef9e782dcca",
   "metadata": {},
   "outputs": [
    {
     "data": {
      "text/plain": [
       "325"
      ]
     },
     "execution_count": 10,
     "metadata": {},
     "output_type": "execute_result"
    }
   ],
   "source": [
    "reduce(lambda x,y:x+y,list(range(1,26)))"
   ]
  },
  {
   "cell_type": "markdown",
   "id": "ec7bd860-c275-4591-99c3-68836fe5e032",
   "metadata": {},
   "source": [
    "Q5. Write a python program to filter the numbers in a given list that are divisible by 2 and 3 using the\n",
    "filter function.\n",
    "[2, 3, 6, 9, 27, 60, 90, 120, 55, 46]"
   ]
  },
  {
   "cell_type": "code",
   "execution_count": 11,
   "id": "9fd2c8d1-14d0-4787-924d-6f9617f730d9",
   "metadata": {},
   "outputs": [
    {
     "data": {
      "text/plain": [
       "[6, 60, 90, 120]"
      ]
     },
     "execution_count": 11,
     "metadata": {},
     "output_type": "execute_result"
    }
   ],
   "source": [
    "My_list = [2, 3, 6, 9, 27, 60, 90, 120, 55, 46]\n",
    "list(filter(lambda x:x%2==0 and x%3==0,My_list))"
   ]
  },
  {
   "cell_type": "markdown",
   "id": "441e29a9-8c88-471d-bffc-31fc3f28df7b",
   "metadata": {},
   "source": [
    "Q6. Write a python program to find palindromes in the given list of strings using lambda and filter\n",
    "function.\n",
    "['python', 'php', 'aba', 'radar', 'level']"
   ]
  },
  {
   "cell_type": "code",
   "execution_count": 1,
   "id": "f8704c89-e79b-4fd6-8afc-1247e86cdc45",
   "metadata": {},
   "outputs": [
    {
     "data": {
      "text/plain": [
       "['php', 'aba', 'radar', 'level']"
      ]
     },
     "execution_count": 1,
     "metadata": {},
     "output_type": "execute_result"
    }
   ],
   "source": [
    "Str_list = ['python', 'php', 'aba', 'radar', 'level']\n",
    "list(filter(lambda x : x==x[::-1],Str_list))"
   ]
  }
 ],
 "metadata": {
  "kernelspec": {
   "display_name": "Python 3 (ipykernel)",
   "language": "python",
   "name": "python3"
  },
  "language_info": {
   "codemirror_mode": {
    "name": "ipython",
    "version": 3
   },
   "file_extension": ".py",
   "mimetype": "text/x-python",
   "name": "python",
   "nbconvert_exporter": "python",
   "pygments_lexer": "ipython3",
   "version": "3.11.3"
  }
 },
 "nbformat": 4,
 "nbformat_minor": 5
}
