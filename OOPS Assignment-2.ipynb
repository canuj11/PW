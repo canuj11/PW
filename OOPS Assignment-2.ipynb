{
 "cells": [
  {
   "cell_type": "markdown",
   "id": "8f5005f8-a0d2-4f08-9806-50f741d2f56c",
   "metadata": {},
   "source": [
    "Q1. What is Abstraction in OOps? Explain with an example.\n",
    "Abstraction is a fundamental concept in object-oriented programming (OOP) that allows you to create abstract classes and methods that define a common interface for a set of related classes."
   ]
  },
  {
   "cell_type": "code",
   "execution_count": 1,
   "id": "15d504fd-a2a1-4ed5-9f75-49b75edecee4",
   "metadata": {},
   "outputs": [],
   "source": [
    "from abc import ABC, abstractmethod\n",
    "\n",
    "class Animal(ABC):\n",
    "    @abstractmethod\n",
    "    def make_sound(self):\n",
    "        pass\n",
    "\n",
    "class Dog(Animal):\n",
    "    def make_sound(self):\n",
    "        print(\"Bark! Bark!\")\n",
    "\n",
    "class Cat(Animal):\n",
    "    def make_sound(self):\n",
    "        print(\"Meow!\")\n"
   ]
  },
  {
   "cell_type": "code",
   "execution_count": 2,
   "id": "68832bbc-1632-4995-aa0e-75d846215cac",
   "metadata": {},
   "outputs": [],
   "source": [
    "dog = Dog()"
   ]
  },
  {
   "cell_type": "code",
   "execution_count": 4,
   "id": "6fff7230-2a83-435a-85ef-939a6bae1312",
   "metadata": {},
   "outputs": [
    {
     "name": "stdout",
     "output_type": "stream",
     "text": [
      "Bark! Bark!\n"
     ]
    }
   ],
   "source": [
    "dog.make_sound()"
   ]
  },
  {
   "cell_type": "code",
   "execution_count": 5,
   "id": "e79d5182-191d-43e1-b352-7fb74ffd76e8",
   "metadata": {},
   "outputs": [],
   "source": [
    "cat = Cat()"
   ]
  },
  {
   "cell_type": "code",
   "execution_count": 6,
   "id": "9cf1e66c-666b-4c41-ad8d-e65c21a045b0",
   "metadata": {},
   "outputs": [
    {
     "name": "stdout",
     "output_type": "stream",
     "text": [
      "Meow!\n"
     ]
    }
   ],
   "source": [
    "cat.make_sound()"
   ]
  },
  {
   "cell_type": "markdown",
   "id": "bf683341-258b-4686-9c95-ba8eb9dcdc0f",
   "metadata": {},
   "source": [
    "Q2. Differentiate between Abstraction and Encapsulation. Explain with an example.\n",
    "Abstraction is about highlighting the features and behavior of an object and hiding the unnecessary information.\n",
    "Encapsulation hides the internal data from outside users."
   ]
  },
  {
   "cell_type": "code",
   "execution_count": 20,
   "id": "0db2d66d-3e2c-4fda-b30b-68aef5b60b3e",
   "metadata": {},
   "outputs": [],
   "source": [
    "class BankAccount:\n",
    "    def __init__(self, account_number, balance):\n",
    "        self.account_number = account_number\n",
    "        self.__balance = balance\n",
    "\n",
    "    def deposit(self, amount):\n",
    "        self.__balance += amount\n",
    "\n",
    "    def withdraw(self, amount):\n",
    "        if amount <= self.__balance:\n",
    "            self.__balance -= amount\n",
    "        else:\n",
    "            print(\"Insufficient balance.\")\n",
    "\n",
    "    def get_balance(self):\n",
    "        return self.__balance"
   ]
  },
  {
   "cell_type": "code",
   "execution_count": 21,
   "id": "1a4d9442-e3c5-402d-9f9c-a57705050a90",
   "metadata": {},
   "outputs": [],
   "source": [
    "a = BankAccount(21,5000)"
   ]
  },
  {
   "cell_type": "code",
   "execution_count": 22,
   "id": "9c8af61e-4af9-4a27-8846-1426948c5538",
   "metadata": {},
   "outputs": [
    {
     "data": {
      "text/plain": [
       "5000"
      ]
     },
     "execution_count": 22,
     "metadata": {},
     "output_type": "execute_result"
    }
   ],
   "source": [
    "a.get_balance()"
   ]
  },
  {
   "cell_type": "code",
   "execution_count": 23,
   "id": "8d113cff-2e88-4aaa-bb76-c05ff3672e0e",
   "metadata": {},
   "outputs": [],
   "source": [
    "a.deposit(500)"
   ]
  },
  {
   "cell_type": "code",
   "execution_count": 24,
   "id": "8bae28f8-44c1-4b41-afa1-d67f22ad7165",
   "metadata": {},
   "outputs": [
    {
     "data": {
      "text/plain": [
       "5500"
      ]
     },
     "execution_count": 24,
     "metadata": {},
     "output_type": "execute_result"
    }
   ],
   "source": [
    "a.get_balance()"
   ]
  },
  {
   "cell_type": "code",
   "execution_count": 25,
   "id": "a1648732-f808-4958-83e2-17a48bb271a1",
   "metadata": {},
   "outputs": [],
   "source": [
    "a.withdraw(4500)"
   ]
  },
  {
   "cell_type": "code",
   "execution_count": 26,
   "id": "c64b88f6-adeb-4cc5-98ad-0df76161a3f9",
   "metadata": {},
   "outputs": [
    {
     "data": {
      "text/plain": [
       "1000"
      ]
     },
     "execution_count": 26,
     "metadata": {},
     "output_type": "execute_result"
    }
   ],
   "source": [
    "a.get_balance()"
   ]
  },
  {
   "cell_type": "code",
   "execution_count": 27,
   "id": "f2c07375-6e1c-41d9-8a9e-c63c4effe4b0",
   "metadata": {},
   "outputs": [
    {
     "name": "stdout",
     "output_type": "stream",
     "text": [
      "Insufficient balance.\n"
     ]
    }
   ],
   "source": [
    "a.withdraw(2000)"
   ]
  },
  {
   "cell_type": "markdown",
   "id": "0ef9e1a9-0688-4abd-9228-7464939fb77f",
   "metadata": {},
   "source": [
    "Q3. What is abc module in python? Why is it used?\n",
    "The abc module in Python stands for Abstract Base Classes. It is a built-in module that provides mechanisms for defining abstract base classes.\n",
    "it is used for define abstract method and abstract base class"
   ]
  },
  {
   "cell_type": "code",
   "execution_count": null,
   "id": "25343fbf-81a5-4856-b04c-b96be830b051",
   "metadata": {},
   "outputs": [],
   "source": []
  }
 ],
 "metadata": {
  "kernelspec": {
   "display_name": "Python 3 (ipykernel)",
   "language": "python",
   "name": "python3"
  },
  "language_info": {
   "codemirror_mode": {
    "name": "ipython",
    "version": 3
   },
   "file_extension": ".py",
   "mimetype": "text/x-python",
   "name": "python",
   "nbconvert_exporter": "python",
   "pygments_lexer": "ipython3",
   "version": "3.11.3"
  }
 },
 "nbformat": 4,
 "nbformat_minor": 5
}
