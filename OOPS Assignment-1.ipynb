{
 "cells": [
  {
   "cell_type": "markdown",
   "id": "898377ca-952d-4d3f-98a1-91e96b8cb9dc",
   "metadata": {},
   "source": [
    "Q1. Explain Class and Object with respect to Object-Oriented Programming. Give a suitable example."
   ]
  },
  {
   "cell_type": "markdown",
   "id": "aa027891-686f-4186-ba93-b57a968fa1ae",
   "metadata": {},
   "source": [
    "In object-oriented programming (OOP), a class is a blueprint or template for creating objects. It defines the attributes (data) and behaviors (methods) that objects of that class will have. A class serves as a blueprint for creating multiple objects with similar characteristics and functionalities.\n",
    "An object is an instance of a class. It represents a specific entity or instance that is created based on the class definition."
   ]
  },
  {
   "cell_type": "code",
   "execution_count": 3,
   "id": "5697247f-c24d-4ff4-8911-a29ea5486203",
   "metadata": {},
   "outputs": [],
   "source": [
    "class car:\n",
    "    def __init__(self, brand, model, year):\n",
    "        self.brand = brand\n",
    "        self.model = model\n",
    "        self.year = year"
   ]
  },
  {
   "cell_type": "code",
   "execution_count": 5,
   "id": "c797a1bd-4627-4bfa-b8cc-2a035ad4ac20",
   "metadata": {},
   "outputs": [],
   "source": [
    "car1 = car('Suzuki','Alto',2017)\n",
    "car2 = car('Toyota','innova',2020)"
   ]
  },
  {
   "cell_type": "code",
   "execution_count": 6,
   "id": "dfda2dd5-4e9d-45b0-80bc-7dceb4820dc0",
   "metadata": {},
   "outputs": [
    {
     "data": {
      "text/plain": [
       "'Suzuki'"
      ]
     },
     "execution_count": 6,
     "metadata": {},
     "output_type": "execute_result"
    }
   ],
   "source": [
    "car1.brand"
   ]
  },
  {
   "cell_type": "code",
   "execution_count": 7,
   "id": "8d20ed9d-cb27-4cb0-8c81-ab632895fb1f",
   "metadata": {},
   "outputs": [
    {
     "data": {
      "text/plain": [
       "'Toyota'"
      ]
     },
     "execution_count": 7,
     "metadata": {},
     "output_type": "execute_result"
    }
   ],
   "source": [
    "car2.brand"
   ]
  },
  {
   "cell_type": "markdown",
   "id": "40e40214-fee3-4b02-a026-77e75321fec4",
   "metadata": {},
   "source": [
    "Q2. Name the four pillars of OOPs.\n",
    "1. Polymorphism\n",
    "2. inheritance\n",
    "3. encapsulation\n",
    "4. abstraction"
   ]
  },
  {
   "cell_type": "markdown",
   "id": "c6df190d-e58b-4990-b780-3c96f72b0bd0",
   "metadata": {},
   "source": [
    "Q3. Explain why the __init__() function is used. Give a suitable example."
   ]
  },
  {
   "cell_type": "markdown",
   "id": "2da01ba7-c349-4816-8b5f-68c10a53e8a0",
   "metadata": {},
   "source": [
    " It is a special method in Python classes that is automatically called when an object of that class is created. \n",
    " It is commonly used to initialize the attributes of the object with the values passed as arguments during object creation.\n",
    " class car:\n",
    "    def __init__(self, brand, model, year):\n",
    "        self.brand = brand\n",
    "        self.model = model\n",
    "        self.year = year"
   ]
  },
  {
   "cell_type": "markdown",
   "id": "b1129264-0742-487a-a6ec-755667817ee0",
   "metadata": {},
   "source": [
    "Q4. Why self is used in OOPs?\n",
    "self is used for bound the attribute to class."
   ]
  },
  {
   "cell_type": "markdown",
   "id": "d2c29550-dc63-4b2c-b6dd-193e7a08a416",
   "metadata": {},
   "source": [
    "Q5. What is inheritance? Give an example for each type of inheritance.\n",
    "Inheritance is the way to inherite the properties of a class to another class"
   ]
  },
  {
   "cell_type": "code",
   "execution_count": 8,
   "id": "bdaf40d2-adc6-4a1d-93da-210cb330a201",
   "metadata": {},
   "outputs": [],
   "source": [
    "#Example\n",
    "class A:\n",
    "    def method_A(self):\n",
    "        print(\"Method A\")\n",
    "\n",
    "class B:\n",
    "    def method_B(self):\n",
    "        print(\"Method B\")\n",
    "\n",
    "class C(A, B):\n",
    "    def method_C(self):\n",
    "        print(\"Method C\")\n"
   ]
  },
  {
   "cell_type": "code",
   "execution_count": 10,
   "id": "5cdcdac5-fcbd-40ef-8826-fba738fb91ec",
   "metadata": {},
   "outputs": [],
   "source": [
    "c = C()"
   ]
  },
  {
   "cell_type": "code",
   "execution_count": 11,
   "id": "72248dbe-9adb-412f-9c34-448f1986d7d7",
   "metadata": {},
   "outputs": [
    {
     "data": {
      "text/plain": [
       "<bound method A.method_A of <__main__.C object at 0x000001E5351008D0>>"
      ]
     },
     "execution_count": 11,
     "metadata": {},
     "output_type": "execute_result"
    }
   ],
   "source": [
    "c.method_A"
   ]
  },
  {
   "cell_type": "code",
   "execution_count": 12,
   "id": "b6636bb5-3241-44b8-bc30-c3ea0fc55786",
   "metadata": {},
   "outputs": [
    {
     "data": {
      "text/plain": [
       "<bound method B.method_B of <__main__.C object at 0x000001E5351008D0>>"
      ]
     },
     "execution_count": 12,
     "metadata": {},
     "output_type": "execute_result"
    }
   ],
   "source": [
    "c.method_B"
   ]
  },
  {
   "cell_type": "code",
   "execution_count": 13,
   "id": "4463dea8-145d-416c-b4e8-37f1ad3426a6",
   "metadata": {},
   "outputs": [
    {
     "data": {
      "text/plain": [
       "<bound method C.method_C of <__main__.C object at 0x000001E5351008D0>>"
      ]
     },
     "execution_count": 13,
     "metadata": {},
     "output_type": "execute_result"
    }
   ],
   "source": [
    "c.method_C"
   ]
  },
  {
   "cell_type": "code",
   "execution_count": null,
   "id": "b18fe15b-3640-4cfd-8d1c-a53652eddd0f",
   "metadata": {},
   "outputs": [],
   "source": []
  }
 ],
 "metadata": {
  "kernelspec": {
   "display_name": "Python 3 (ipykernel)",
   "language": "python",
   "name": "python3"
  },
  "language_info": {
   "codemirror_mode": {
    "name": "ipython",
    "version": 3
   },
   "file_extension": ".py",
   "mimetype": "text/x-python",
   "name": "python",
   "nbconvert_exporter": "python",
   "pygments_lexer": "ipython3",
   "version": "3.11.3"
  }
 },
 "nbformat": 4,
 "nbformat_minor": 5
}
