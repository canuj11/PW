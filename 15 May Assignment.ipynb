{
 "cells": [
  {
   "cell_type": "markdown",
   "id": "185b3f0d-5dd2-4300-a1e2-3aef34fd4ca2",
   "metadata": {},
   "source": [
    "Q.1 How do you comment code in Python? What are the different types of comments?"
   ]
  },
  {
   "cell_type": "markdown",
   "id": "6d201719-3259-415d-bcd8-a6c361f7a257",
   "metadata": {},
   "source": [
    "We can start comment using '#'. In python, there are 2 types of comments - single line with starting '#' and multi-line that can be start and end with '\"\"\"'."
   ]
  },
  {
   "cell_type": "markdown",
   "id": "38b1808d-b7a3-43d6-b291-f18f5d55960a",
   "metadata": {},
   "source": [
    "Q.2 What are variables in Python? How do you declare and assign values to variables?"
   ]
  },
  {
   "cell_type": "markdown",
   "id": "19dd2a3d-330b-4828-bc99-db90f5255b0e",
   "metadata": {},
   "source": [
    "Variable is like a container that can be used to store any data value. We can define any variable in such below mentioned way:\n",
    "A = 1\n",
    "b = 'Anuj'\n",
    "c = True\n",
    "d = [1,2,4,5,'Anuj']\n",
    "e = 233.65\n",
    "So we can define any variable with '=' assignment operator and value can be any object like int, float, str, list, boolean."
   ]
  },
  {
   "cell_type": "markdown",
   "id": "74755d3b-ddfd-45d9-b0cb-194f80fc377e",
   "metadata": {},
   "source": [
    "Q.3 How do you convert one data type to another in Python?"
   ]
  },
  {
   "cell_type": "markdown",
   "id": "abdfff51-9624-4d40-8bee-92276dd75e2f",
   "metadata": {},
   "source": [
    "We can convert any data type to another with inbuilt python functions.\n",
    "like"
   ]
  },
  {
   "cell_type": "code",
   "execution_count": 1,
   "id": "5b647578-28d1-415a-8a56-0cb4308ac1ca",
   "metadata": {},
   "outputs": [],
   "source": [
    "A = 45"
   ]
  },
  {
   "cell_type": "code",
   "execution_count": 3,
   "id": "95634f00-769a-4643-8eb7-0c3b73bc82f2",
   "metadata": {},
   "outputs": [
    {
     "data": {
      "text/plain": [
       "int"
      ]
     },
     "execution_count": 3,
     "metadata": {},
     "output_type": "execute_result"
    }
   ],
   "source": [
    "type(A)"
   ]
  },
  {
   "cell_type": "code",
   "execution_count": 7,
   "id": "623b0ccf-89b2-4979-b81d-569e0040defc",
   "metadata": {},
   "outputs": [],
   "source": [
    "b= str(A)"
   ]
  },
  {
   "cell_type": "code",
   "execution_count": 8,
   "id": "786b396c-60df-405b-8e2b-de6db5c1f776",
   "metadata": {},
   "outputs": [
    {
     "data": {
      "text/plain": [
       "str"
      ]
     },
     "execution_count": 8,
     "metadata": {},
     "output_type": "execute_result"
    }
   ],
   "source": [
    "type(b)"
   ]
  },
  {
   "cell_type": "markdown",
   "id": "36594d2c-858d-47f3-ac3b-ce5d8132ecab",
   "metadata": {},
   "source": [
    "Q.4 How do you write and execute a Python script from the command line?"
   ]
  },
  {
   "cell_type": "markdown",
   "id": "d1023031-eb82-4719-a604-309c603bbe42",
   "metadata": {},
   "source": [
    "We can firstly open notedpad or any text editor and then save this file as .py extension.\n",
    "As we have saved file - Test.py\n",
    "Then we open cmd as admin.\n",
    "Then we nevigate to directory where we saved our file. Like we saved our file in Desktop, then we nevigate to cd desktop.\n",
    "Then once we reach to correct directory, then we execute file by typing 'Python' followed by filename with extension.\n",
    "Like Python Test.py\n",
    "So this is entire process."
   ]
  },
  {
   "cell_type": "markdown",
   "id": "e5f6c8ed-aa36-49d0-bc85-b31274922394",
   "metadata": {},
   "source": [
    "Q.5 Given a list my_list = [1, 2, 3, 4, 5], write the code to slice the list and obtain the sub-list [2, 3]."
   ]
  },
  {
   "cell_type": "code",
   "execution_count": 9,
   "id": "03940cea-2051-42fe-82dc-3093aaa74f43",
   "metadata": {},
   "outputs": [],
   "source": [
    "my_list = [1,2,3,4,5]"
   ]
  },
  {
   "cell_type": "code",
   "execution_count": 10,
   "id": "b765c9c7-97a5-4eda-8a8b-7be7cb51c341",
   "metadata": {},
   "outputs": [
    {
     "data": {
      "text/plain": [
       "[2, 3]"
      ]
     },
     "execution_count": 10,
     "metadata": {},
     "output_type": "execute_result"
    }
   ],
   "source": [
    "my_list[1:3]"
   ]
  },
  {
   "cell_type": "markdown",
   "id": "27de133c-dcc5-4d65-9bd2-f84cb5e30cf6",
   "metadata": {},
   "source": [
    "Q.6 What is a complex number in mathematics, and how is it represented in Python?"
   ]
  },
  {
   "cell_type": "markdown",
   "id": "c51a4340-05fe-431f-b3de-c349b82b9427",
   "metadata": {},
   "source": [
    "Complex number is a number which contains real part and imaginary part like 23+2j. Where 23 means real part and 2j means imaginary part.\n",
    "In python, 'Complex' data type represents complex numbers"
   ]
  },
  {
   "cell_type": "code",
   "execution_count": 18,
   "id": "09b9d5be-f045-4c17-a2e0-c05c6fa6c05a",
   "metadata": {},
   "outputs": [
    {
     "data": {
      "text/plain": [
       "complex"
      ]
     },
     "execution_count": 18,
     "metadata": {},
     "output_type": "execute_result"
    }
   ],
   "source": [
    "a = 2 + 3j\n",
    "type(a)"
   ]
  },
  {
   "cell_type": "markdown",
   "id": "de44bbf1-50d2-4403-a7f2-c10b36a4dc7d",
   "metadata": {},
   "source": [
    "Q.7 What is the correct way to declare a variable named age and assign the value 25 to it?"
   ]
  },
  {
   "cell_type": "code",
   "execution_count": 19,
   "id": "961359f8-6ee2-43bb-86af-b2da332ba9af",
   "metadata": {},
   "outputs": [],
   "source": [
    "age = 25"
   ]
  },
  {
   "cell_type": "code",
   "execution_count": 20,
   "id": "810cd45c-2459-4626-808c-534866cc7cae",
   "metadata": {},
   "outputs": [
    {
     "data": {
      "text/plain": [
       "25"
      ]
     },
     "execution_count": 20,
     "metadata": {},
     "output_type": "execute_result"
    }
   ],
   "source": [
    "age"
   ]
  },
  {
   "cell_type": "markdown",
   "id": "ce6bb8ff-0587-49a0-8344-df7cc72e375c",
   "metadata": {},
   "source": [
    "Q.8 Declare a variable named price and assign the value 9.99 to it. What data type does this variable\n",
    "belong to?"
   ]
  },
  {
   "cell_type": "code",
   "execution_count": 21,
   "id": "f4ed38e7-c638-44ef-9f0a-b7e19aadff62",
   "metadata": {},
   "outputs": [],
   "source": [
    "price = 9.99\n",
    "#Variable 'price' belongs to data type 'float'"
   ]
  },
  {
   "cell_type": "code",
   "execution_count": 22,
   "id": "c426cd3f-02d8-4832-9d7a-518d69e90b2c",
   "metadata": {},
   "outputs": [
    {
     "data": {
      "text/plain": [
       "float"
      ]
     },
     "execution_count": 22,
     "metadata": {},
     "output_type": "execute_result"
    }
   ],
   "source": [
    "type(price)"
   ]
  },
  {
   "cell_type": "markdown",
   "id": "bdfba8e3-aef6-4eb8-970c-cf095a2651f5",
   "metadata": {},
   "source": [
    "Q.9 Create a variable named name and assign your full name to it as a string. How would you print the\n",
    "value of this variable?"
   ]
  },
  {
   "cell_type": "code",
   "execution_count": 23,
   "id": "68117a2f-a05e-44bd-849e-506d21fea59b",
   "metadata": {},
   "outputs": [],
   "source": [
    "name = 'Anuj Chauhan'"
   ]
  },
  {
   "cell_type": "code",
   "execution_count": 26,
   "id": "ba789717-0392-4946-a90b-72fd19aa8e22",
   "metadata": {},
   "outputs": [
    {
     "name": "stdout",
     "output_type": "stream",
     "text": [
      "Anuj Chauhan\n"
     ]
    }
   ],
   "source": [
    "#we can print value of variable 'name' by access this.\n",
    "print(name)"
   ]
  },
  {
   "cell_type": "markdown",
   "id": "289d8602-48fa-416b-b0d7-17a66148475e",
   "metadata": {},
   "source": [
    "Q.10 Given the string \"Hello, World!\", extract the substring \"World\"."
   ]
  },
  {
   "cell_type": "code",
   "execution_count": 27,
   "id": "dc7fefc1-e9d9-4e80-baf7-f438d9926500",
   "metadata": {},
   "outputs": [],
   "source": [
    "A = \"Hello, World!\""
   ]
  },
  {
   "cell_type": "code",
   "execution_count": 28,
   "id": "a09cc231-bf8b-4fd2-ab0d-ecd0e4af056b",
   "metadata": {},
   "outputs": [
    {
     "data": {
      "text/plain": [
       "'World'"
      ]
     },
     "execution_count": 28,
     "metadata": {},
     "output_type": "execute_result"
    }
   ],
   "source": [
    "A[7:12]"
   ]
  },
  {
   "cell_type": "markdown",
   "id": "18abefae-70f5-4a67-9227-e82be4932e78",
   "metadata": {},
   "source": [
    "Q.11 Create a variable named \"is_student\" and assign it a boolean value indicating whether you are\n",
    "currently a student or not."
   ]
  },
  {
   "cell_type": "code",
   "execution_count": 31,
   "id": "d3739693-34cf-44a2-a120-90713b04ac6d",
   "metadata": {},
   "outputs": [],
   "source": [
    "is_student = True\n",
    "#We can assign boolean value 'True' if you are a student. "
   ]
  },
  {
   "cell_type": "code",
   "execution_count": 34,
   "id": "4497feaa-52fd-48c9-b40b-a8b1ad427e48",
   "metadata": {},
   "outputs": [],
   "source": [
    "is_student = False\n",
    "#We can assign boolean value 'False' if you are not a student. "
   ]
  },
  {
   "cell_type": "code",
   "execution_count": null,
   "id": "626aec7c-12c1-41bb-b546-4e11647f251b",
   "metadata": {},
   "outputs": [],
   "source": []
  }
 ],
 "metadata": {
  "kernelspec": {
   "display_name": "Python 3 (ipykernel)",
   "language": "python",
   "name": "python3"
  },
  "language_info": {
   "codemirror_mode": {
    "name": "ipython",
    "version": 3
   },
   "file_extension": ".py",
   "mimetype": "text/x-python",
   "name": "python",
   "nbconvert_exporter": "python",
   "pygments_lexer": "ipython3",
   "version": "3.11.3"
  }
 },
 "nbformat": 4,
 "nbformat_minor": 5
}
