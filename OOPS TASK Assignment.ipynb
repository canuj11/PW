{
 "cells": [
  {
   "cell_type": "markdown",
   "id": "78940799-af42-4e64-a903-5b24179b29a8",
   "metadata": {},
   "source": [
    "Q1, Create a vehicle class with an init method having instance variables as name_of_vehicle, max_speed and average_of_vehicle."
   ]
  },
  {
   "cell_type": "code",
   "execution_count": 120,
   "id": "e35f0c25-c581-43b7-bf7d-828f05b14cb0",
   "metadata": {},
   "outputs": [],
   "source": [
    "class vehicle:\n",
    "        def __init__(self,name_of_vehicle, max_speed, average_of_vehicle):\n",
    "            self.name_of_vehicle = name_of_vehicle\n",
    "            self.max_speed = max_speed\n",
    "            self.average_of_vehicle = average_of_vehicle\n",
    "\n",
    "        def get_details(self):\n",
    "            return self.name_of_vehicle, self.max_speed, self.average_of_vehicle"
   ]
  },
  {
   "cell_type": "code",
   "execution_count": 15,
   "id": "b2811c6f-6642-4c77-92d7-10af0a60937d",
   "metadata": {},
   "outputs": [],
   "source": [
    "Alto = vehicle('Alto', 120, 50)"
   ]
  },
  {
   "cell_type": "code",
   "execution_count": 121,
   "id": "f81184c5-077f-4b41-975c-33f5566e22a0",
   "metadata": {},
   "outputs": [],
   "source": [
    "Innova = vehicle('Innova',200,30)"
   ]
  },
  {
   "cell_type": "code",
   "execution_count": 16,
   "id": "aa2d0fce-9680-4fe2-92a2-f63a79a26171",
   "metadata": {},
   "outputs": [
    {
     "data": {
      "text/plain": [
       "('Alto', 120, 50)"
      ]
     },
     "execution_count": 16,
     "metadata": {},
     "output_type": "execute_result"
    }
   ],
   "source": [
    "Alto.get_details()"
   ]
  },
  {
   "cell_type": "markdown",
   "id": "417054ca-a2b3-4d37-a50e-4ec2f5f98a9a",
   "metadata": {},
   "source": [
    "Q2. Create a child class car from the vehicle class created in Que 1, which will inherit the vehicle class.\n",
    "Create a method named seating_capacity which takes capacity as an argument and returns the name of\n",
    "the vehicle and its seating capacity."
   ]
  },
  {
   "cell_type": "code",
   "execution_count": 129,
   "id": "8aeb3edc-5867-4f2c-9f88-2953ec7e34b8",
   "metadata": {},
   "outputs": [],
   "source": [
    "class car(vehicle):        \n",
    "    def __init__(self,name_of_vehicle,seating_capacity):\n",
    "        self.capacity  = seating_capacity\n",
    "        self.name_of_vehicle = name_of_vehicle\n",
    "\n",
    "    def seating_capacity(self):\n",
    "        return self.name_of_vehicle,self.capacity"
   ]
  },
  {
   "cell_type": "code",
   "execution_count": 130,
   "id": "3e850dfc-3dc9-4ba8-9d92-cec2f4d3b2cc",
   "metadata": {},
   "outputs": [],
   "source": [
    "Innova = car('Innova',6)"
   ]
  },
  {
   "cell_type": "code",
   "execution_count": 133,
   "id": "ab86c56e-405e-469a-9023-9e773682d74f",
   "metadata": {},
   "outputs": [
    {
     "data": {
      "text/plain": [
       "('Innova', 6)"
      ]
     },
     "execution_count": 133,
     "metadata": {},
     "output_type": "execute_result"
    }
   ],
   "source": [
    "Innova.seating_capacity()"
   ]
  },
  {
   "cell_type": "markdown",
   "id": "35221970-6f5f-4a65-87f7-ff321c273ce9",
   "metadata": {},
   "source": [
    "Q3. What is multiple inheritance? Write a python code to demonstrate multiple inheritance.\n",
    "Multiple inheritance is a method of inherit two or more class in a one class.\n",
    "here is example for this:"
   ]
  },
  {
   "cell_type": "code",
   "execution_count": 6,
   "id": "1f917f0e-bbf0-404e-9c3c-d64989c41fcc",
   "metadata": {},
   "outputs": [],
   "source": [
    "class addition:\n",
    "    def add(self,a,b):\n",
    "        return a+b"
   ]
  },
  {
   "cell_type": "code",
   "execution_count": 7,
   "id": "3e0e9377-79b3-4e31-9dcc-c0d1f00b341a",
   "metadata": {},
   "outputs": [],
   "source": [
    "class mul:\n",
    "    def multi(self,a,b):\n",
    "        return a*b"
   ]
  },
  {
   "cell_type": "code",
   "execution_count": 9,
   "id": "23063338-259a-4073-b5f7-ac5273e95220",
   "metadata": {},
   "outputs": [],
   "source": [
    "class abc(addition,mul):\n",
    "    pass"
   ]
  },
  {
   "cell_type": "code",
   "execution_count": 11,
   "id": "85272f6b-9331-4fda-b6da-11a9099e808e",
   "metadata": {},
   "outputs": [],
   "source": [
    "abc_obj = abc()"
   ]
  },
  {
   "cell_type": "code",
   "execution_count": 12,
   "id": "a94adf1a-15ec-41a4-9cfc-0316d9bb4ef4",
   "metadata": {},
   "outputs": [
    {
     "data": {
      "text/plain": [
       "5"
      ]
     },
     "execution_count": 12,
     "metadata": {},
     "output_type": "execute_result"
    }
   ],
   "source": [
    "abc_obj.add(2,3)"
   ]
  },
  {
   "cell_type": "code",
   "execution_count": 13,
   "id": "29ee074d-153e-4286-bd93-3ad8ee4bc31a",
   "metadata": {},
   "outputs": [
    {
     "data": {
      "text/plain": [
       "6"
      ]
     },
     "execution_count": 13,
     "metadata": {},
     "output_type": "execute_result"
    }
   ],
   "source": [
    "abc_obj.multi(2,3)"
   ]
  },
  {
   "cell_type": "markdown",
   "id": "734d8590-d1aa-4b64-b185-87128de0ff34",
   "metadata": {},
   "source": [
    "Q4. What are getter and setter in python? Create a class and create a getter and a setter method in this\n",
    "class."
   ]
  },
  {
   "cell_type": "code",
   "execution_count": 4,
   "id": "a548b039-7402-487e-afbb-17e50991874f",
   "metadata": {},
   "outputs": [],
   "source": [
    "#Getter and setter are a property decorators in python.\n",
    "class students:\n",
    "    def __init__(self,class_name, number_of_students):\n",
    "        self.class_name = class_name\n",
    "        self.__number_of_students = number_of_students\n",
    "\n",
    "    @property\n",
    "    def num_students(self):\n",
    "        return self.__number_of_students\n",
    "\n",
    "    @num_students.setter\n",
    "    def change_student_numbers(self,number):\n",
    "        self.__number_of_students = number"
   ]
  },
  {
   "cell_type": "code",
   "execution_count": 7,
   "id": "b59e3edd-3465-4db5-8c89-3a6a1ed734a0",
   "metadata": {},
   "outputs": [],
   "source": [
    "st = students('a',34)"
   ]
  },
  {
   "cell_type": "code",
   "execution_count": 8,
   "id": "244a4b5c-1f72-41e4-bc25-1058b93e3de6",
   "metadata": {},
   "outputs": [
    {
     "data": {
      "text/plain": [
       "34"
      ]
     },
     "execution_count": 8,
     "metadata": {},
     "output_type": "execute_result"
    }
   ],
   "source": [
    "st.num_students"
   ]
  },
  {
   "cell_type": "code",
   "execution_count": 9,
   "id": "dc59c2aa-60b0-4c09-a471-1902212f1bae",
   "metadata": {},
   "outputs": [
    {
     "data": {
      "text/plain": [
       "'a'"
      ]
     },
     "execution_count": 9,
     "metadata": {},
     "output_type": "execute_result"
    }
   ],
   "source": [
    "st.class_name"
   ]
  },
  {
   "cell_type": "code",
   "execution_count": 10,
   "id": "b21bde1e-ea33-4457-96e9-9dbd6f52f462",
   "metadata": {},
   "outputs": [],
   "source": [
    "st.change_student_numbers = 56"
   ]
  },
  {
   "cell_type": "code",
   "execution_count": 11,
   "id": "5051e565-400a-46bc-a9a3-49ee19319ea7",
   "metadata": {},
   "outputs": [
    {
     "data": {
      "text/plain": [
       "56"
      ]
     },
     "execution_count": 11,
     "metadata": {},
     "output_type": "execute_result"
    }
   ],
   "source": [
    "st.num_students"
   ]
  },
  {
   "cell_type": "markdown",
   "id": "a4b5bd60-79b0-491d-af86-d30adb0e9764",
   "metadata": {},
   "source": [
    "Q5.What is method overriding in python? Write a python code to demonstrate method overriding."
   ]
  },
  {
   "cell_type": "markdown",
   "id": "439dcf92-d9f8-4b55-ac91-8780d414e8cf",
   "metadata": {},
   "source": [
    "Method overriding is a feature in object-oriented programming that allows a subclass to provide a different implementation of a method that is already defined in its superclass. The subclass overrides the method of the superclass with its own implementation, providing more specialized behavior."
   ]
  },
  {
   "cell_type": "code",
   "execution_count": 12,
   "id": "f0ab797d-2eba-4cd0-a881-321ec2208b16",
   "metadata": {},
   "outputs": [
    {
     "name": "stdout",
     "output_type": "stream",
     "text": [
      "Bark! Bark!\n",
      "Meow!\n"
     ]
    }
   ],
   "source": [
    "class Animal:\n",
    "    def make_sound(self):\n",
    "        print(\"Generic animal sound\")\n",
    "\n",
    "class Dog(Animal):\n",
    "    def make_sound(self):\n",
    "        print(\"Bark! Bark!\")\n",
    "\n",
    "class Cat(Animal):\n",
    "    def make_sound(self):\n",
    "        print(\"Meow!\")\n",
    "\n",
    "# Create objects of the subclasses\n",
    "dog = Dog()\n",
    "cat = Cat()\n",
    "\n",
    "# Call the overridden method\n",
    "dog.make_sound()  # Output: Bark! Bark!\n",
    "cat.make_sound()  # Output: Meow!"
   ]
  },
  {
   "cell_type": "code",
   "execution_count": null,
   "id": "aacee8f5-1792-4514-9d2f-9c9335eeaf74",
   "metadata": {},
   "outputs": [],
   "source": []
  }
 ],
 "metadata": {
  "kernelspec": {
   "display_name": "Python 3 (ipykernel)",
   "language": "python",
   "name": "python3"
  },
  "language_info": {
   "codemirror_mode": {
    "name": "ipython",
    "version": 3
   },
   "file_extension": ".py",
   "mimetype": "text/x-python",
   "name": "python",
   "nbconvert_exporter": "python",
   "pygments_lexer": "ipython3",
   "version": "3.11.3"
  }
 },
 "nbformat": 4,
 "nbformat_minor": 5
}
